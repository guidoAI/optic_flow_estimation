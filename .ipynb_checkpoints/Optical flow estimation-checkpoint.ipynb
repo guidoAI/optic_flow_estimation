{
 "cells": [
  {
   "cell_type": "markdown",
   "metadata": {},
   "source": [
    "## Optic flow estimation from an image pair\n",
    "\n",
    "In this notebook, we will explain how to estimate optic flow from an image pair coming from a conventional camera. There are many different optic flow algorithms, ranging from exhaustive block-matching to variational methods, and from phase-based methods to deep neural networks. However, in our explanation, we will focus on the most common, CPU-based, _feature-based method_ that performs two steps:\n",
    "<OL>\n",
    "    <LI> Feature detection </LI>\n",
    "    <LI> Feature tracking </LI>\n",
    "</OL>\n",
    "\n",
    "In this notebook, we will start with the second step, as it is the one that actually determines the optic flow. In particular, we will explain the method developed by Lucas and Kanade [1], which is both a fast and accurate method for determining optic flow.\n",
    "\n",
    "### Lucas and Kanade's algorithm for optic flow determination\n",
    "In their article, Lucas and Kanade first explain their method with a one-dimensional example. We will do the same here. Below, we show two curves, $f(x)$ and $g(x)$, which only differ by a horizontal shift, i.e., $g(x)=f(x+h)$, where $h$ is the the horizontal shift. The vertical axis is termed $I$ for illuminance. The fact that the curves have the exact same illuminance shows that it constant brightness is assumed. \n",
    "\n",
    "<IMG SRC=\"LucasKanade_flow.png\" WIDTH=\"50%\"></IMG>\n",
    "\n",
    "So, we have:\n",
    "\n",
    "\\begin{equation}\n",
    "g(x) = f(x+h)\n",
    "\\end{equation}\n",
    "<div style=\"text-align: right\">(Eq. 1)</div>\n",
    "\n",
    "The basis for the Lucas and Kanade method is a linear approximation:\n",
    "\n",
    "\\begin{equation}\n",
    "f'(x) \\approx \\frac{f(x+h) - f(x)}{h}\n",
    "\\end{equation}\n",
    "<div style=\"text-align: right\">(Eq. 2)</div>\n",
    "\n",
    "where we can use equation 1 to arrive at:\n",
    "\n",
    "\\begin{equation}\n",
    "f'(x) \\approx \\frac{g(x) - f(x)}{h}\n",
    "\\end{equation}\n",
    "<div style=\"text-align: right\">(Eq. 3)</div>\n",
    "\n",
    "and by re-arranging terms:\n",
    "\n",
    "\\begin{equation}\n",
    "h \\approx \\frac{g(x) - f(x)}{f'(x)}\n",
    "\\end{equation}\n",
    "<div style=\"text-align: right\">(Eq. 4)</div>\n",
    "\n",
    "Eq. 4 is the basic step in the Lucas and Kanade algorithm. Explained on an intuitive level: If function $g$ is higher at $x$ than $f$, and $f'(x)$ is positive, then $h$ should be augmented in order to shift $f$ further to the left. Similar reasonings can be follow for $g$ being lower than $f$ and $f'(x)$ being positive or negative. Both the underlying math and the intuitive explanation immediately show that this method strongly relies on local approximations.\n"
   ]
  },
  {
   "cell_type": "code",
   "execution_count": null,
   "metadata": {},
   "outputs": [],
   "source": []
  },
  {
   "cell_type": "markdown",
   "metadata": {},
   "source": [
    "## References\n",
    "\n",
    "[1] Lucas, B. and Kanade, T. **An iterative image registration technique with an application to stereo vision.** In proceedings of Imaging understanding workshop, pp. 121–130. 1981.\n"
   ]
  },
  {
   "cell_type": "code",
   "execution_count": null,
   "metadata": {},
   "outputs": [],
   "source": []
  }
 ],
 "metadata": {
  "kernelspec": {
   "display_name": "Python 3",
   "language": "python",
   "name": "python3"
  },
  "language_info": {
   "codemirror_mode": {
    "name": "ipython",
    "version": 3
   },
   "file_extension": ".py",
   "mimetype": "text/x-python",
   "name": "python",
   "nbconvert_exporter": "python",
   "pygments_lexer": "ipython3",
   "version": "3.6.7"
  }
 },
 "nbformat": 4,
 "nbformat_minor": 2
}
