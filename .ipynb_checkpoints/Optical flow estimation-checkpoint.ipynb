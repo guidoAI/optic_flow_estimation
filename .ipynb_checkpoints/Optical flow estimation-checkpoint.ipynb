{
 "cells": [
  {
   "cell_type": "markdown",
   "metadata": {},
   "source": [
    "## Optical flow estimation from an image pair\n",
    "\n",
    "In this notebook, we will explain how to estimate optical flow from an image pair coming from a conventional camera. In our explanation, we will focus on a CPU-based, traditional method that performs two steps:\n",
    "<OL>\n",
    "    <LI> feature detection </LI>\n",
    "    <LI> feature tracking </LI>\n",
    "</OL>\n",
    "\n",
    "\n",
    "\n",
    "\n",
    "\n"
   ]
  },
  {
   "cell_type": "code",
   "execution_count": null,
   "metadata": {},
   "outputs": [],
   "source": []
  }
 ],
 "metadata": {
  "kernelspec": {
   "display_name": "Python 3",
   "language": "python",
   "name": "python3"
  },
  "language_info": {
   "codemirror_mode": {
    "name": "ipython",
    "version": 3
   },
   "file_extension": ".py",
   "mimetype": "text/x-python",
   "name": "python",
   "nbconvert_exporter": "python",
   "pygments_lexer": "ipython3",
   "version": "3.6.7"
  }
 },
 "nbformat": 4,
 "nbformat_minor": 2
}
